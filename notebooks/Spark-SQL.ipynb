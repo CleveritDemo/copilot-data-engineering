{
 "cells": [
  {
   "cell_type": "markdown",
   "metadata": {},
   "source": [
    "# PySpark Environment\n"
   ]
  },
  {
   "cell_type": "code",
   "execution_count": 1,
   "metadata": {},
   "outputs": [],
   "source": [
    "import os\n",
    "\n",
    "os.environ['SPARK_HOME'] = 'C:/Users/saulr/anaconda3/envs/pyspark-env/Lib/site-packages/pyspark'\n",
    "os.environ['PYSPARK_DRIVER_PYTHON'] = 'jupyter'\n",
    "os.environ['PYSPARK_DRIVER_PYTHON_OPTS'] = 'notebook'\n",
    "os.environ['PYSPARK_PYTHON'] = 'python'\n",
    "\n",
    "# Import PySpark and initialize SparkSession\n",
    "from pyspark.sql import SparkSession\n",
    "\n",
    "# Create a SparkSession\n",
    "spark = SparkSession.builder.appName('SparkDataFrame').getOrCreate()"
   ]
  },
  {
   "cell_type": "markdown",
   "metadata": {},
   "source": [
    "# Spark SQL"
   ]
  },
  {
   "cell_type": "markdown",
   "metadata": {},
   "source": [
    "## Load Data into a DataFrame"
   ]
  },
  {
   "cell_type": "code",
   "execution_count": null,
   "metadata": {},
   "outputs": [],
   "source": [
    "# Read the CSV file into a DataFrame\n",
    "df = spark.read.csv('../data/persons.csv', header=True, inferSchema=True)\n",
    "\n",
    "# Print the DataFrame schema\n",
    "df.printSchema()\n",
    "\n",
    "# Show the first 5 rows\n",
    "df.show(5)"
   ]
  },
  {
   "cell_type": "markdown",
   "metadata": {},
   "source": [
    "## Register the DataFrame as a Temporary Table"
   ]
  },
  {
   "cell_type": "code",
   "execution_count": 3,
   "metadata": {},
   "outputs": [],
   "source": [
    "# Register the DataFrame as a Temporary Table\n",
    "df.createOrReplaceTempView('persons')"
   ]
  },
  {
   "cell_type": "markdown",
   "metadata": {},
   "source": [
    "## Perform SQL-like Queries"
   ]
  },
  {
   "cell_type": "code",
   "execution_count": null,
   "metadata": {},
   "outputs": [],
   "source": [
    "# Select all rows where age is greater than 25\n",
    "query = 'SELECT * FROM persons WHERE age > 25'\n",
    "result = spark.sql(query)\n",
    "result.show()\n",
    "\n",
    "# Compute the average salary of persons\n",
    "query = 'SELECT AVG(salary) AS avg_salary FROM persons'\n",
    "result = spark.sql(query)\n",
    "result.show()"
   ]
  },
  {
   "cell_type": "markdown",
   "metadata": {},
   "source": [
    "## Managing temporary views"
   ]
  },
  {
   "cell_type": "code",
   "execution_count": null,
   "metadata": {},
   "outputs": [],
   "source": [
    "# Check if a temporary view persons exists and print a message if exists\n",
    "if spark.catalog._jcatalog.tableExists('persons'):\n",
    "    print('Temporary view persons exists')\n",
    "\n",
    "# Drop the temporary view persons\n",
    "spark.catalog.dropTempView('persons')\n",
    "\n"
   ]
  },
  {
   "cell_type": "markdown",
   "metadata": {},
   "source": [
    "## Sub Queries"
   ]
  },
  {
   "cell_type": "code",
   "execution_count": null,
   "metadata": {},
   "outputs": [],
   "source": [
    "# Create two DataFrames\n",
    "# The first DataFrame contains employee data with columns: id, name\n",
    "# The second DataFrame contains salary data with columns: id, salary, department\n",
    "emp_data = [(1, 'John'), (2, 'Jane'), (3, 'Smith')]\n",
    "salary_data = [(1, 50000, 'HR'), (2, 60000, 'IT'), (3, 70000, 'Finance')]\n",
    "emp_df = spark.createDataFrame(emp_data, ['id', 'name'])\n",
    "salary_df = spark.createDataFrame(salary_data, ['id', 'salary', 'department'])\n",
    "\n",
    "# Show the DataFrames\n",
    "emp_df.show()\n",
    "salary_df.show()"
   ]
  },
  {
   "cell_type": "code",
   "execution_count": 14,
   "metadata": {},
   "outputs": [],
   "source": [
    "# Register as temporary views\n",
    "emp_df.createOrReplaceTempView('employees')\n",
    "salary_df.createOrReplaceTempView('salaries')"
   ]
  },
  {
   "cell_type": "code",
   "execution_count": null,
   "metadata": {},
   "outputs": [],
   "source": [
    "# Subquery to find employees with salaries above average\n",
    "query = '''\n",
    "SELECT e.name, s.salary\n",
    "FROM employees e\n",
    "JOIN salaries s\n",
    "ON e.id = s.id\n",
    "WHERE s.salary > (SELECT AVG(salary) FROM salaries)\n",
    "'''\n",
    "result = spark.sql(query)\n",
    "result.show()"
   ]
  }
 ],
 "metadata": {
  "kernelspec": {
   "display_name": "pyspark-env",
   "language": "python",
   "name": "python3"
  },
  "language_info": {
   "codemirror_mode": {
    "name": "ipython",
    "version": 3
   },
   "file_extension": ".py",
   "mimetype": "text/x-python",
   "name": "python",
   "nbconvert_exporter": "python",
   "pygments_lexer": "ipython3",
   "version": "3.12.4"
  }
 },
 "nbformat": 4,
 "nbformat_minor": 2
}
